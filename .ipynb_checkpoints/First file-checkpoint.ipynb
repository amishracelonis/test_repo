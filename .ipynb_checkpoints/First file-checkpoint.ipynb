{
 "cells": [
  {
   "cell_type": "code",
   "execution_count": 1,
   "id": "9ffe5a1d",
   "metadata": {},
   "outputs": [],
   "source": [
    "import pandas as pd"
   ]
  },
  {
   "cell_type": "code",
   "execution_count": 2,
   "id": "1718eda0",
   "metadata": {},
   "outputs": [],
   "source": [
    "import numpy as np"
   ]
  },
  {
   "cell_type": "code",
   "execution_count": null,
   "id": "b2a09f41",
   "metadata": {},
   "outputs": [],
   "source": [
    "temp_dict = {\n",
    "    \"first_key\" : 1,\n",
    "    \"second\" : 1,\n",
    "    \"third\" : 1,\n",
    "}"
   ]
  },
  {
   "cell_type": "code",
   "execution_count": 5,
   "id": "050ddc7f",
   "metadata": {},
   "outputs": [],
   "source": [
    "random = np.random.rand(1,5)"
   ]
  },
  {
   "cell_type": "code",
   "execution_count": 6,
   "id": "1d09bccf",
   "metadata": {},
   "outputs": [
    {
     "name": "stdout",
     "output_type": "stream",
     "text": [
      "[[0.93789909 0.06819113 0.11173777 0.93803134 0.39441223]]\n"
     ]
    }
   ],
   "source": [
    "print(random)"
   ]
  },
  {
   "cell_type": "code",
   "execution_count": 7,
   "id": "afb0cfd9",
   "metadata": {},
   "outputs": [
    {
     "name": "stdout",
     "output_type": "stream",
     "text": [
      "printing count 0\n",
      "\n",
      "printing count 1\n",
      "\n",
      "printing count 2\n",
      "\n",
      "printing count 3\n",
      "\n",
      "printing count 4\n",
      "\n",
      "printing count 5\n",
      "\n",
      "printing count 6\n",
      "\n",
      "printing count 7\n",
      "\n",
      "printing count 8\n",
      "\n",
      "printing count 9\n",
      "\n"
     ]
    }
   ],
   "source": [
    "for i in range(0,10):\n",
    "    print(f\"printing count {i}\\n\")"
   ]
  },
  {
   "cell_type": "code",
   "execution_count": null,
   "id": "c9bff007",
   "metadata": {},
   "outputs": [],
   "source": []
  }
 ],
 "metadata": {
  "kernelspec": {
   "display_name": "Python 3",
   "language": "python",
   "name": "python3"
  },
  "language_info": {
   "codemirror_mode": {
    "name": "ipython",
    "version": 3
   },
   "file_extension": ".py",
   "mimetype": "text/x-python",
   "name": "python",
   "nbconvert_exporter": "python",
   "pygments_lexer": "ipython3",
   "version": "3.8.12"
  }
 },
 "nbformat": 4,
 "nbformat_minor": 5
}
